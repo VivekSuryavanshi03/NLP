{
 "cells": [
  {
   "cell_type": "code",
   "execution_count": 11,
   "id": "d88e4b25-19dc-4a3d-9f6f-452f21ff0bc0",
   "metadata": {},
   "outputs": [],
   "source": [
    "paragraph = '''Ladies and gentlemen, today is a new day, a fresh start, and an opportunity to rewrite your story. You are here because you have a dream, a vision, and a passion that burns within you. But I know that the journey to success is not easy. There will be obstacles, setbacks, and times when you feel like giving up.\n",
    "But I want you to remember that every great achievement requires effort, perseverance, and resilience. Thomas Edison failed over 1,000 times before inventing the light bulb. J.K. Rowling was rejected 12 times before a publisher agreed to print Harry Potter. Stephen King's Carrie was rejected 30 times.\n",
    "You see, success is not a destination; it's a journey. And on this journey, you will encounter challenges that will test your resolve, your courage, and your determination. But it's in these moments that you must draw upon your inner strength, your passion, and your vision.\n",
    "Remember why you started. Remember the fire that burns within you. Remember the dreams you want to achieve. And let that be your guiding light, your motivation, and your driving force.\n",
    "You are capable of achieving greatness. You are capable of overcoming any obstacle. You are capable of achieving your wildest dreams. But you must believe in yourself. You must trust in your abilities. And you must be willing to take risks.\n",
    "Don't be afraid to fail. Failure is not the opposite of success; it's a part of success. Every failure brings you closer to your goal. Every setback is an opportunity to learn, to grow, and to become stronger.\n",
    "You are not alone on this journey. There are people who believe in you, who support you, and who want to see you succeed. Draw upon their strength, their wisdom, and their encouragement.\n",
    "And when the doubts creep in, when the fears arise, and when the uncertainties overwhelm you, remind yourself of your why. Remind yourself of your purpose. Remind yourself of your dreams.\n",
    "You are a warrior, a fighter, and a champion. You have the power to overcome any obstacle, to achieve any goal, and to realize your dreams. So don't give up. Don't lose faith. And don't lose sight of your vision.\n",
    "Keep pushing forward, even when the road ahead seems uncertain. Keep pushing forward, even when the journey gets tough. Keep pushing forward, because every step you take brings you closer to your dreams.\n",
    "And when you finally achieve your goals, remember to celebrate your success. Remember to acknowledge your hard work. And remember to share your story with others, because your success can inspire, motivate, and empower others to achieve their own dreams.\n",
    "'''"
   ]
  },
  {
   "cell_type": "code",
   "execution_count": 13,
   "id": "87d1bf1c-e3f7-41a5-a008-b36a8aa01860",
   "metadata": {},
   "outputs": [],
   "source": [
    "import nltk\n",
    "sentences=nltk.sent_tokenize(paragraph)"
   ]
  },
  {
   "cell_type": "code",
   "execution_count": 15,
   "id": "252a3964-7943-47ae-90d1-f0fb5ef52962",
   "metadata": {},
   "outputs": [
    {
     "data": {
      "text/plain": [
       "['Ladies and gentlemen, today is a new day, a fresh start, and an opportunity to rewrite your story.',\n",
       " 'You are here because you have a dream, a vision, and a passion that burns within you.',\n",
       " 'But I know that the journey to success is not easy.',\n",
       " 'There will be obstacles, setbacks, and times when you feel like giving up.',\n",
       " 'But I want you to remember that every great achievement requires effort, perseverance, and resilience.',\n",
       " 'Thomas Edison failed over 1,000 times before inventing the light bulb.',\n",
       " 'J.K. Rowling was rejected 12 times before a publisher agreed to print Harry Potter.',\n",
       " \"Stephen King's Carrie was rejected 30 times.\",\n",
       " \"You see, success is not a destination; it's a journey.\",\n",
       " 'And on this journey, you will encounter challenges that will test your resolve, your courage, and your determination.',\n",
       " \"But it's in these moments that you must draw upon your inner strength, your passion, and your vision.\",\n",
       " 'Remember why you started.',\n",
       " 'Remember the fire that burns within you.',\n",
       " 'Remember the dreams you want to achieve.',\n",
       " 'And let that be your guiding light, your motivation, and your driving force.',\n",
       " 'You are capable of achieving greatness.',\n",
       " 'You are capable of overcoming any obstacle.',\n",
       " 'You are capable of achieving your wildest dreams.',\n",
       " 'But you must believe in yourself.',\n",
       " 'You must trust in your abilities.',\n",
       " 'And you must be willing to take risks.',\n",
       " \"Don't be afraid to fail.\",\n",
       " \"Failure is not the opposite of success; it's a part of success.\",\n",
       " 'Every failure brings you closer to your goal.',\n",
       " 'Every setback is an opportunity to learn, to grow, and to become stronger.',\n",
       " 'You are not alone on this journey.',\n",
       " 'There are people who believe in you, who support you, and who want to see you succeed.',\n",
       " 'Draw upon their strength, their wisdom, and their encouragement.',\n",
       " 'And when the doubts creep in, when the fears arise, and when the uncertainties overwhelm you, remind yourself of your why.',\n",
       " 'Remind yourself of your purpose.',\n",
       " 'Remind yourself of your dreams.',\n",
       " 'You are a warrior, a fighter, and a champion.',\n",
       " 'You have the power to overcome any obstacle, to achieve any goal, and to realize your dreams.',\n",
       " \"So don't give up.\",\n",
       " \"Don't lose faith.\",\n",
       " \"And don't lose sight of your vision.\",\n",
       " 'Keep pushing forward, even when the road ahead seems uncertain.',\n",
       " 'Keep pushing forward, even when the journey gets tough.',\n",
       " 'Keep pushing forward, because every step you take brings you closer to your dreams.',\n",
       " 'And when you finally achieve your goals, remember to celebrate your success.',\n",
       " 'Remember to acknowledge your hard work.',\n",
       " 'And remember to share your story with others, because your success can inspire, motivate, and empower others to achieve their own dreams.']"
      ]
     },
     "execution_count": 15,
     "metadata": {},
     "output_type": "execute_result"
    }
   ],
   "source": [
    "sentences"
   ]
  },
  {
   "cell_type": "code",
   "execution_count": 17,
   "id": "66b7053a-1f42-45e9-9778-e9cfff036f0f",
   "metadata": {},
   "outputs": [
    {
     "name": "stdout",
     "output_type": "stream",
     "text": [
      "[('Ladies', 'NNS'), ('gentlemen', 'NNS'), (',', ','), ('today', 'NN'), ('new', 'JJ'), ('day', 'NN'), (',', ','), ('fresh', 'JJ'), ('start', 'NN'), (',', ','), ('opportunity', 'NN'), ('rewrite', 'JJ'), ('story', 'NN'), ('.', '.')]\n",
      "[('You', 'PRP'), ('dream', 'VBP'), (',', ','), ('vision', 'NN'), (',', ','), ('passion', 'NN'), ('burns', 'NNS'), ('within', 'IN'), ('.', '.')]\n",
      "[('But', 'CC'), ('I', 'PRP'), ('know', 'VBP'), ('journey', 'JJ'), ('success', 'NN'), ('easy', 'NN'), ('.', '.')]\n",
      "[('There', 'EX'), ('obstacles', 'NNS'), (',', ','), ('setbacks', 'NNS'), (',', ','), ('times', 'NNS'), ('feel', 'VBP'), ('like', 'IN'), ('giving', 'VBG'), ('.', '.')]\n",
      "[('But', 'CC'), ('I', 'PRP'), ('want', 'VBP'), ('remember', 'VB'), ('every', 'DT'), ('great', 'JJ'), ('achievement', 'JJ'), ('requires', 'VBZ'), ('effort', 'NN'), (',', ','), ('perseverance', 'NN'), (',', ','), ('resilience', 'NN'), ('.', '.')]\n",
      "[('Thomas', 'NNP'), ('Edison', 'NNP'), ('failed', 'VBD'), ('1,000', 'CD'), ('times', 'NNS'), ('inventing', 'VBG'), ('light', 'JJ'), ('bulb', 'NN'), ('.', '.')]\n",
      "[('J.K.', 'NNP'), ('Rowling', 'NNP'), ('rejected', 'VBD'), ('12', 'CD'), ('times', 'NNS'), ('publisher', 'RB'), ('agreed', 'VBD'), ('print', 'NN'), ('Harry', 'NNP'), ('Potter', 'NNP'), ('.', '.')]\n",
      "[('Stephen', 'NNP'), ('King', 'NNP'), (\"'s\", 'POS'), ('Carrie', 'NNP'), ('rejected', 'VBD'), ('30', 'CD'), ('times', 'NNS'), ('.', '.')]\n",
      "[('You', 'PRP'), ('see', 'VBP'), (',', ','), ('success', 'NN'), ('destination', 'NN'), (';', ':'), (\"'s\", 'POS'), ('journey', 'NN'), ('.', '.')]\n",
      "[('And', 'CC'), ('journey', 'NN'), (',', ','), ('encounter', 'NN'), ('challenges', 'NNS'), ('test', 'VBP'), ('resolve', 'NN'), (',', ','), ('courage', 'NN'), (',', ','), ('determination', 'NN'), ('.', '.')]\n",
      "[('But', 'CC'), (\"'s\", 'POS'), ('moments', 'NNS'), ('must', 'MD'), ('draw', 'VB'), ('upon', 'IN'), ('inner', 'JJ'), ('strength', 'NN'), (',', ','), ('passion', 'NN'), (',', ','), ('vision', 'NN'), ('.', '.')]\n",
      "[('Remember', 'NNP'), ('started', 'VBD'), ('.', '.')]\n",
      "[('Remember', 'NNP'), ('fire', 'NN'), ('burns', 'NNS'), ('within', 'IN'), ('.', '.')]\n",
      "[('Remember', 'NNP'), ('dreams', 'NNS'), ('want', 'VBP'), ('achieve', 'NN'), ('.', '.')]\n",
      "[('And', 'CC'), ('let', 'VB'), ('guiding', 'VBG'), ('light', 'JJ'), (',', ','), ('motivation', 'NN'), (',', ','), ('driving', 'VBG'), ('force', 'NN'), ('.', '.')]\n",
      "[('You', 'PRP'), ('capable', 'JJ'), ('achieving', 'VBG'), ('greatness', 'NN'), ('.', '.')]\n",
      "[('You', 'PRP'), ('capable', 'JJ'), ('overcoming', 'VBG'), ('obstacle', 'NN'), ('.', '.')]\n",
      "[('You', 'PRP'), ('capable', 'JJ'), ('achieving', 'VBG'), ('wildest', 'JJS'), ('dreams', 'NNS'), ('.', '.')]\n",
      "[('But', 'CC'), ('must', 'MD'), ('believe', 'VB'), ('.', '.')]\n",
      "[('You', 'PRP'), ('must', 'MD'), ('trust', 'VB'), ('abilities', 'NNS'), ('.', '.')]\n",
      "[('And', 'CC'), ('must', 'MD'), ('willing', 'JJ'), ('take', 'VB'), ('risks', 'NNS'), ('.', '.')]\n",
      "[('Do', 'VBP'), (\"n't\", 'RB'), ('afraid', 'VB'), ('fail', 'NN'), ('.', '.')]\n",
      "[('Failure', 'NN'), ('opposite', 'JJ'), ('success', 'NN'), (';', ':'), (\"'s\", 'POS'), ('part', 'NN'), ('success', 'NN'), ('.', '.')]\n",
      "[('Every', 'DT'), ('failure', 'NN'), ('brings', 'VBZ'), ('closer', 'JJR'), ('goal', 'NN'), ('.', '.')]\n",
      "[('Every', 'DT'), ('setback', 'NN'), ('opportunity', 'NN'), ('learn', 'NN'), (',', ','), ('grow', 'NN'), (',', ','), ('become', 'VBN'), ('stronger', 'NN'), ('.', '.')]\n",
      "[('You', 'PRP'), ('alone', 'RB'), ('journey', 'NN'), ('.', '.')]\n",
      "[('There', 'EX'), ('people', 'NNS'), ('believe', 'VBP'), (',', ','), ('support', 'NN'), (',', ','), ('want', 'VBP'), ('see', 'VBP'), ('succeed', 'VB'), ('.', '.')]\n",
      "[('Draw', 'NNP'), ('upon', 'IN'), ('strength', 'NN'), (',', ','), ('wisdom', 'NN'), (',', ','), ('encouragement', 'NN'), ('.', '.')]\n",
      "[('And', 'CC'), ('doubts', 'NNS'), ('creep', 'VBP'), (',', ','), ('fears', 'NNS'), ('arise', 'VBP'), (',', ','), ('uncertainties', 'NNS'), ('overwhelm', 'VBP'), (',', ','), ('remind', 'NN'), ('.', '.')]\n",
      "[('Remind', 'NNP'), ('purpose', 'NN'), ('.', '.')]\n",
      "[('Remind', 'NNP'), ('dreams', 'NNS'), ('.', '.')]\n",
      "[('You', 'PRP'), ('warrior', 'VBP'), (',', ','), ('fighter', 'NN'), (',', ','), ('champion', 'NN'), ('.', '.')]\n",
      "[('You', 'PRP'), ('power', 'NN'), ('overcome', 'JJ'), ('obstacle', 'NN'), (',', ','), ('achieve', 'VBP'), ('goal', 'NN'), (',', ','), ('realize', 'JJ'), ('dreams', 'NNS'), ('.', '.')]\n",
      "[('So', 'RB'), (\"n't\", 'RB'), ('give', 'VB'), ('.', '.')]\n",
      "[('Do', 'VBP'), (\"n't\", 'RB'), ('lose', 'VB'), ('faith', 'NN'), ('.', '.')]\n",
      "[('And', 'CC'), (\"n't\", 'RB'), ('lose', 'VB'), ('sight', 'JJ'), ('vision', 'NN'), ('.', '.')]\n",
      "[('Keep', 'VB'), ('pushing', 'VBG'), ('forward', 'RB'), (',', ','), ('even', 'RB'), ('road', 'NN'), ('ahead', 'RB'), ('seems', 'VBZ'), ('uncertain', 'JJ'), ('.', '.')]\n",
      "[('Keep', 'VB'), ('pushing', 'VBG'), ('forward', 'RB'), (',', ','), ('even', 'RB'), ('journey', 'JJ'), ('gets', 'VBZ'), ('tough', 'JJ'), ('.', '.')]\n",
      "[('Keep', 'VB'), ('pushing', 'VBG'), ('forward', 'RB'), (',', ','), ('every', 'DT'), ('step', 'NN'), ('take', 'VB'), ('brings', 'NNS'), ('closer', 'JJR'), ('dreams', 'NNS'), ('.', '.')]\n",
      "[('And', 'CC'), ('finally', 'RB'), ('achieve', 'JJ'), ('goals', 'NNS'), (',', ','), ('remember', 'VB'), ('celebrate', 'JJ'), ('success', 'NN'), ('.', '.')]\n",
      "[('Remember', 'NNP'), ('acknowledge', 'VBP'), ('hard', 'JJ'), ('work', 'NN'), ('.', '.')]\n",
      "[('And', 'CC'), ('remember', 'VB'), ('share', 'NN'), ('story', 'NN'), ('others', 'NNS'), (',', ','), ('success', 'NN'), ('inspire', 'NN'), (',', ','), ('motivate', 'NN'), (',', ','), ('empower', 'JJR'), ('others', 'NNS'), ('achieve', 'VBP'), ('dreams', 'NNS'), ('.', '.')]\n"
     ]
    }
   ],
   "source": [
    "## we will find out the Pos tag\n",
    "from nltk.corpus import stopwords\n",
    "\n",
    "for i in range(len(sentences)):\n",
    "    words=nltk.word_tokenize(sentences[i])\n",
    "    words=[word for word in words if word not in set(stopwords.words('english'))]\n",
    "    pos_tag=nltk.pos_tag(words)\n",
    "    print(pos_tag)\n",
    "    "
   ]
  },
  {
   "cell_type": "code",
   "execution_count": 22,
   "id": "2bfcf69d-4c20-4b55-9fe4-f3397279c6b4",
   "metadata": {},
   "outputs": [
    {
     "ename": "NameError",
     "evalue": "name 'text' is not defined",
     "output_type": "error",
     "traceback": [
      "\u001b[1;31m---------------------------------------------------------------------------\u001b[0m",
      "\u001b[1;31mNameError\u001b[0m                                 Traceback (most recent call last)",
      "Cell \u001b[1;32mIn[22], line 2\u001b[0m\n\u001b[0;32m      1\u001b[0m \u001b[38;5;28;01mfrom\u001b[39;00m \u001b[38;5;21;01mnltk\u001b[39;00m\u001b[38;5;21;01m.\u001b[39;00m\u001b[38;5;21;01mtokenize\u001b[39;00m \u001b[38;5;28;01mimport\u001b[39;00m word_tokenize\n\u001b[1;32m----> 2\u001b[0m tokens \u001b[38;5;241m=\u001b[39m [word_tokenize(\u001b[43mtext\u001b[49m)]\n\u001b[0;32m      3\u001b[0m nltk\u001b[38;5;241m.\u001b[39mpos_tag_sents(\u001b[38;5;124m\"\u001b[39m\u001b[38;5;124mTaj mahal is a beautiful Monuments\u001b[39m\u001b[38;5;124m\"\u001b[39m)\n",
      "\u001b[1;31mNameError\u001b[0m: name 'text' is not defined"
     ]
    }
   ],
   "source": [
    "from nltk.tokenize import word_tokenize\n",
    "tokens = [word_tokenize(text)]\n",
    "nltk.pos_tag_sents(\"Taj mahal is a beautiful Monuments\")"
   ]
  },
  {
   "cell_type": "code",
   "execution_count": null,
   "id": "05e66adc-37a1-4f5a-86b2-60080a4e63a2",
   "metadata": {},
   "outputs": [],
   "source": []
  }
 ],
 "metadata": {
  "kernelspec": {
   "display_name": "Python 3 (ipykernel)",
   "language": "python",
   "name": "python3"
  },
  "language_info": {
   "codemirror_mode": {
    "name": "ipython",
    "version": 3
   },
   "file_extension": ".py",
   "mimetype": "text/x-python",
   "name": "python",
   "nbconvert_exporter": "python",
   "pygments_lexer": "ipython3",
   "version": "3.11.7"
  }
 },
 "nbformat": 4,
 "nbformat_minor": 5
}
