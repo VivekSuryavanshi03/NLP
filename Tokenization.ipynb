{
 "cells": [
  {
   "cell_type": "code",
   "execution_count": 1,
   "id": "9829cba5-3302-46b9-b85f-58a21f3a7d33",
   "metadata": {},
   "outputs": [],
   "source": [
    "##tokenization : sentences to tokens"
   ]
  },
  {
   "cell_type": "code",
   "execution_count": null,
   "id": "fbd16629-241c-4f15-b72d-4163bc607eaa",
   "metadata": {},
   "outputs": [],
   "source": [
    "'''\n",
    "corpus -> Paragraph\n",
    "Documents -> sentences\n",
    "vocabulary -> unique words\n",
    "words -> \n",
    "'''\n",
    "##NLTK = Natural Language Toolkit"
   ]
  },
  {
   "cell_type": "code",
   "execution_count": 3,
   "id": "d4de772a-d8de-49e5-89a2-f519e474ef18",
   "metadata": {},
   "outputs": [],
   "source": [
    "import nltk"
   ]
  },
  {
   "cell_type": "code",
   "execution_count": 5,
   "id": "4d064e6c-6171-4829-9089-e9c050a9cd91",
   "metadata": {},
   "outputs": [],
   "source": [
    "corpus = \"\"\"\n",
    "Hi, I'm Vivek, a passionate computer science student at IIIT Ranchi. My journey revolves around exploring AI, data science, and machine learning. I'm currently focused on mastering NLP and its applications. I love tackling real-world problems through technology. Let's connect and innovate together!\n",
    "\"\"\""
   ]
  },
  {
   "cell_type": "code",
   "execution_count": 7,
   "id": "5ebcde6e-72d1-4923-9982-1c56c270e63f",
   "metadata": {},
   "outputs": [
    {
     "name": "stdout",
     "output_type": "stream",
     "text": [
      "\n",
      "Hi, I'm Vivek, a passionate computer science student at IIIT Ranchi. My journey revolves around exploring AI, data science, and machine learning. I'm currently focused on mastering NLP and its applications. I love tackling real-world problems through technology. Let's connect and innovate together!\n",
      "\n"
     ]
    }
   ],
   "source": [
    "print(corpus)"
   ]
  },
  {
   "cell_type": "code",
   "execution_count": 9,
   "id": "4ce3850d-3809-49d9-881b-17d8485f8406",
   "metadata": {},
   "outputs": [],
   "source": [
    "## sentence ---> paragraphs\n",
    "from nltk.tokenize import sent_tokenize"
   ]
  },
  {
   "cell_type": "code",
   "execution_count": 13,
   "id": "47222d19-ce15-4cdf-a865-ca1be1f2dfe8",
   "metadata": {},
   "outputs": [],
   "source": [
    "documents = sent_tokenize(corpus)"
   ]
  },
  {
   "cell_type": "code",
   "execution_count": 15,
   "id": "82bfe4ad-9c92-4169-b21f-2f227f005790",
   "metadata": {},
   "outputs": [
    {
     "data": {
      "text/plain": [
       "list"
      ]
     },
     "execution_count": 15,
     "metadata": {},
     "output_type": "execute_result"
    }
   ],
   "source": [
    "type(documents)"
   ]
  },
  {
   "cell_type": "code",
   "execution_count": 17,
   "id": "754beb04-813e-43f3-bdf0-5397b965337a",
   "metadata": {},
   "outputs": [
    {
     "name": "stdout",
     "output_type": "stream",
     "text": [
      "\n",
      "Hi, I'm Vivek, a passionate computer science student at IIIT Ranchi.\n",
      "My journey revolves around exploring AI, data science, and machine learning.\n",
      "I'm currently focused on mastering NLP and its applications.\n",
      "I love tackling real-world problems through technology.\n",
      "Let's connect and innovate together!\n"
     ]
    }
   ],
   "source": [
    "for sentence in documents:\n",
    "    print(sentence)"
   ]
  },
  {
   "cell_type": "code",
   "execution_count": 19,
   "id": "e0174567-9e28-4861-8f68-c80ecb531250",
   "metadata": {},
   "outputs": [],
   "source": [
    "##paragraph --> words\n",
    "##sentence --> words\n",
    "from nltk.tokenize import word_tokenize"
   ]
  },
  {
   "cell_type": "code",
   "execution_count": 21,
   "id": "981ad661-ca9d-43c0-9228-a2509be69028",
   "metadata": {},
   "outputs": [
    {
     "data": {
      "text/plain": [
       "['Hi',\n",
       " ',',\n",
       " 'I',\n",
       " \"'m\",\n",
       " 'Vivek',\n",
       " ',',\n",
       " 'a',\n",
       " 'passionate',\n",
       " 'computer',\n",
       " 'science',\n",
       " 'student',\n",
       " 'at',\n",
       " 'IIIT',\n",
       " 'Ranchi',\n",
       " '.',\n",
       " 'My',\n",
       " 'journey',\n",
       " 'revolves',\n",
       " 'around',\n",
       " 'exploring',\n",
       " 'AI',\n",
       " ',',\n",
       " 'data',\n",
       " 'science',\n",
       " ',',\n",
       " 'and',\n",
       " 'machine',\n",
       " 'learning',\n",
       " '.',\n",
       " 'I',\n",
       " \"'m\",\n",
       " 'currently',\n",
       " 'focused',\n",
       " 'on',\n",
       " 'mastering',\n",
       " 'NLP',\n",
       " 'and',\n",
       " 'its',\n",
       " 'applications',\n",
       " '.',\n",
       " 'I',\n",
       " 'love',\n",
       " 'tackling',\n",
       " 'real-world',\n",
       " 'problems',\n",
       " 'through',\n",
       " 'technology',\n",
       " '.',\n",
       " 'Let',\n",
       " \"'s\",\n",
       " 'connect',\n",
       " 'and',\n",
       " 'innovate',\n",
       " 'together',\n",
       " '!']"
      ]
     },
     "execution_count": 21,
     "metadata": {},
     "output_type": "execute_result"
    }
   ],
   "source": [
    "word_tokenize(corpus)"
   ]
  },
  {
   "cell_type": "code",
   "execution_count": 23,
   "id": "08ca19bb-69fe-4e8f-ad54-413fd385cdd4",
   "metadata": {},
   "outputs": [
    {
     "name": "stdout",
     "output_type": "stream",
     "text": [
      "['Hi', ',', 'I', \"'m\", 'Vivek', ',', 'a', 'passionate', 'computer', 'science', 'student', 'at', 'IIIT', 'Ranchi', '.']\n",
      "['My', 'journey', 'revolves', 'around', 'exploring', 'AI', ',', 'data', 'science', ',', 'and', 'machine', 'learning', '.']\n",
      "['I', \"'m\", 'currently', 'focused', 'on', 'mastering', 'NLP', 'and', 'its', 'applications', '.']\n",
      "['I', 'love', 'tackling', 'real-world', 'problems', 'through', 'technology', '.']\n",
      "['Let', \"'s\", 'connect', 'and', 'innovate', 'together', '!']\n"
     ]
    }
   ],
   "source": [
    "for sentence in documents:\n",
    "    print(word_tokenize(sentence))"
   ]
  },
  {
   "cell_type": "code",
   "execution_count": 25,
   "id": "f0384d4b-5490-416f-98bc-4e7fc121ec76",
   "metadata": {},
   "outputs": [],
   "source": [
    "from nltk.tokenize import wordpunct_tokenize"
   ]
  },
  {
   "cell_type": "code",
   "execution_count": 27,
   "id": "a671554e-7206-4f0d-a731-1eda431a2aca",
   "metadata": {},
   "outputs": [
    {
     "data": {
      "text/plain": [
       "['Hi',\n",
       " ',',\n",
       " 'I',\n",
       " \"'\",\n",
       " 'm',\n",
       " 'Vivek',\n",
       " ',',\n",
       " 'a',\n",
       " 'passionate',\n",
       " 'computer',\n",
       " 'science',\n",
       " 'student',\n",
       " 'at',\n",
       " 'IIIT',\n",
       " 'Ranchi',\n",
       " '.',\n",
       " 'My',\n",
       " 'journey',\n",
       " 'revolves',\n",
       " 'around',\n",
       " 'exploring',\n",
       " 'AI',\n",
       " ',',\n",
       " 'data',\n",
       " 'science',\n",
       " ',',\n",
       " 'and',\n",
       " 'machine',\n",
       " 'learning',\n",
       " '.',\n",
       " 'I',\n",
       " \"'\",\n",
       " 'm',\n",
       " 'currently',\n",
       " 'focused',\n",
       " 'on',\n",
       " 'mastering',\n",
       " 'NLP',\n",
       " 'and',\n",
       " 'its',\n",
       " 'applications',\n",
       " '.',\n",
       " 'I',\n",
       " 'love',\n",
       " 'tackling',\n",
       " 'real',\n",
       " '-',\n",
       " 'world',\n",
       " 'problems',\n",
       " 'through',\n",
       " 'technology',\n",
       " '.',\n",
       " 'Let',\n",
       " \"'\",\n",
       " 's',\n",
       " 'connect',\n",
       " 'and',\n",
       " 'innovate',\n",
       " 'together',\n",
       " '!']"
      ]
     },
     "execution_count": 27,
     "metadata": {},
     "output_type": "execute_result"
    }
   ],
   "source": [
    "wordpunct_tokenize(corpus)"
   ]
  },
  {
   "cell_type": "code",
   "execution_count": 29,
   "id": "b5e95e63-c972-4a5b-ae69-8dbed3045fb3",
   "metadata": {},
   "outputs": [],
   "source": [
    "from nltk.tokenize import TreebankWordTokenizer"
   ]
  },
  {
   "cell_type": "code",
   "execution_count": 31,
   "id": "c2acf11f-fdd3-4d54-af06-1587937b8d3c",
   "metadata": {},
   "outputs": [],
   "source": [
    "tokenizer = TreebankWordTokenizer()"
   ]
  },
  {
   "cell_type": "code",
   "execution_count": 33,
   "id": "9d25cbf9-11bf-48e4-95ba-70eaca14a696",
   "metadata": {},
   "outputs": [
    {
     "data": {
      "text/plain": [
       "['Hi',\n",
       " ',',\n",
       " 'I',\n",
       " \"'m\",\n",
       " 'Vivek',\n",
       " ',',\n",
       " 'a',\n",
       " 'passionate',\n",
       " 'computer',\n",
       " 'science',\n",
       " 'student',\n",
       " 'at',\n",
       " 'IIIT',\n",
       " 'Ranchi.',\n",
       " 'My',\n",
       " 'journey',\n",
       " 'revolves',\n",
       " 'around',\n",
       " 'exploring',\n",
       " 'AI',\n",
       " ',',\n",
       " 'data',\n",
       " 'science',\n",
       " ',',\n",
       " 'and',\n",
       " 'machine',\n",
       " 'learning.',\n",
       " 'I',\n",
       " \"'m\",\n",
       " 'currently',\n",
       " 'focused',\n",
       " 'on',\n",
       " 'mastering',\n",
       " 'NLP',\n",
       " 'and',\n",
       " 'its',\n",
       " 'applications.',\n",
       " 'I',\n",
       " 'love',\n",
       " 'tackling',\n",
       " 'real-world',\n",
       " 'problems',\n",
       " 'through',\n",
       " 'technology.',\n",
       " 'Let',\n",
       " \"'s\",\n",
       " 'connect',\n",
       " 'and',\n",
       " 'innovate',\n",
       " 'together',\n",
       " '!']"
      ]
     },
     "execution_count": 33,
     "metadata": {},
     "output_type": "execute_result"
    }
   ],
   "source": [
    "tokenizer.tokenize(corpus)"
   ]
  },
  {
   "cell_type": "code",
   "execution_count": null,
   "id": "422c6270-1aba-4609-8746-31b33a007ba3",
   "metadata": {},
   "outputs": [],
   "source": []
  }
 ],
 "metadata": {
  "kernelspec": {
   "display_name": "Python 3 (ipykernel)",
   "language": "python",
   "name": "python3"
  },
  "language_info": {
   "codemirror_mode": {
    "name": "ipython",
    "version": 3
   },
   "file_extension": ".py",
   "mimetype": "text/x-python",
   "name": "python",
   "nbconvert_exporter": "python",
   "pygments_lexer": "ipython3",
   "version": "3.11.7"
  }
 },
 "nbformat": 4,
 "nbformat_minor": 5
}
