{
 "cells": [
  {
   "cell_type": "code",
   "execution_count": 13,
   "id": "cc4c3426-3859-44ff-8652-f42c91e98c78",
   "metadata": {},
   "outputs": [
    {
     "name": "stderr",
     "output_type": "stream",
     "text": [
      "[nltk_data] Downloading package punkt to\n",
      "[nltk_data]     C:\\Users\\vivek\\AppData\\Roaming\\nltk_data...\n",
      "[nltk_data]   Package punkt is already up-to-date!\n"
     ]
    },
    {
     "data": {
      "text/plain": [
       "True"
      ]
     },
     "execution_count": 13,
     "metadata": {},
     "output_type": "execute_result"
    }
   ],
   "source": [
    "import nltk\n",
    "nltk.download('punkt')\n"
   ]
  },
  {
   "cell_type": "code",
   "execution_count": 3,
   "id": "ffcdab3f-1390-4e37-a059-f6bf9d436f56",
   "metadata": {},
   "outputs": [],
   "source": [
    "## wordnet lemmatizer : gives us root word"
   ]
  },
  {
   "cell_type": "code",
   "execution_count": 17,
   "id": "21919825-e8a3-41e1-a2e5-ee21cdca769b",
   "metadata": {},
   "outputs": [
    {
     "name": "stderr",
     "output_type": "stream",
     "text": [
      "[nltk_data] Downloading package wordnet to\n",
      "[nltk_data]     C:\\Users\\vivek\\AppData\\Roaming\\nltk_data...\n"
     ]
    },
    {
     "data": {
      "text/plain": [
       "True"
      ]
     },
     "execution_count": 17,
     "metadata": {},
     "output_type": "execute_result"
    }
   ],
   "source": [
    "nltk.download('wordnet')"
   ]
  },
  {
   "cell_type": "code",
   "execution_count": 19,
   "id": "8e907c0d-7bef-40f3-8da1-6956e288d1fa",
   "metadata": {},
   "outputs": [],
   "source": [
    "from nltk.stem import WordNetLemmatizer"
   ]
  },
  {
   "cell_type": "code",
   "execution_count": 21,
   "id": "7eec3040-8a7d-457f-98cf-b5b6ecf593d5",
   "metadata": {},
   "outputs": [],
   "source": [
    "lemmatizer=WordNetLemmatizer()"
   ]
  },
  {
   "cell_type": "code",
   "execution_count": null,
   "id": "1d80afd9-2832-4b79-ab2a-b515708605c4",
   "metadata": {},
   "outputs": [],
   "source": [
    "'''\n",
    "POS- Noun -n\n",
    "verb-v\n",
    "adjective-a\n",
    "adverb-r\n",
    "'''"
   ]
  },
  {
   "cell_type": "code",
   "execution_count": 31,
   "id": "9b99077a-372b-4605-aa3c-37e77440c680",
   "metadata": {},
   "outputs": [
    {
     "data": {
      "text/plain": [
       "'go'"
      ]
     },
     "execution_count": 31,
     "metadata": {},
     "output_type": "execute_result"
    }
   ],
   "source": [
    "lemmatizer.lemmatize(\"going\",pos='v')"
   ]
  },
  {
   "cell_type": "code",
   "execution_count": 33,
   "id": "6fb9f82a-8fc7-4857-b6b5-8738c4044132",
   "metadata": {},
   "outputs": [],
   "source": [
    "words = [\"eating\", \"eats\", \"eaten\", \"writing\", \"writes\", \"running\", \"runner\", \"happily\", \"happiness\", \"playing\", \"plays\", \"played\", \"caring\", \"cared\", \"study\", \"studied\", \"studies\"]\n"
   ]
  },
  {
   "cell_type": "code",
   "execution_count": 37,
   "id": "e3b6e3a2-1166-4f8f-b9c0-8f0525682fef",
   "metadata": {},
   "outputs": [
    {
     "name": "stdout",
     "output_type": "stream",
     "text": [
      "eating----->eat\n",
      "eats----->eat\n",
      "eaten----->eat\n",
      "writing----->write\n",
      "writes----->write\n",
      "running----->run\n",
      "runner----->runner\n",
      "happily----->happily\n",
      "happiness----->happiness\n",
      "playing----->play\n",
      "plays----->play\n",
      "played----->play\n",
      "caring----->care\n",
      "cared----->care\n",
      "study----->study\n",
      "studied----->study\n",
      "studies----->study\n"
     ]
    }
   ],
   "source": [
    "for word in words:\n",
    "    print(word+\"----->\"+lemmatizer.lemmatize(word,pos=\"v\"))"
   ]
  },
  {
   "cell_type": "code",
   "execution_count": null,
   "id": "2402e31a-1393-4058-9955-a012f7f8c986",
   "metadata": {},
   "outputs": [],
   "source": []
  }
 ],
 "metadata": {
  "kernelspec": {
   "display_name": "Python 3 (ipykernel)",
   "language": "python",
   "name": "python3"
  },
  "language_info": {
   "codemirror_mode": {
    "name": "ipython",
    "version": 3
   },
   "file_extension": ".py",
   "mimetype": "text/x-python",
   "name": "python",
   "nbconvert_exporter": "python",
   "pygments_lexer": "ipython3",
   "version": "3.11.7"
  }
 },
 "nbformat": 4,
 "nbformat_minor": 5
}
