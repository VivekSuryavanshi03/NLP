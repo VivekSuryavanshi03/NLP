{
 "cells": [
  {
   "cell_type": "code",
   "execution_count": null,
   "id": "e968f79d-1e1f-40e7-a031-f70817a98441",
   "metadata": {},
   "outputs": [],
   "source": [
    "\"\"\"\n",
    "person eg : Vivek\n",
    "Place or Location eg:India/Noida\n",
    "Date eg :july 2002\n",
    "Time eg :12:24pm\n",
    "Money eg : 1 crore\n",
    "Organisation eg:MARKS LIMITED\n",
    "Percentage : 20%,fifty percent\n",
    "\"\"\""
   ]
  },
  {
   "cell_type": "code",
   "execution_count": 3,
   "id": "9869faea-446f-49b2-affe-5a351913c9a1",
   "metadata": {},
   "outputs": [],
   "source": [
    "sentence = \"The Eiffel Tower, a symbol of Paris, stands tall at 324 meters, inspiring wonder and romance, a iron lady of beauty and strength.\""
   ]
  },
  {
   "cell_type": "code",
   "execution_count": 7,
   "id": "0a1d88e5-b57c-49ea-88f3-62a50aa57b1a",
   "metadata": {},
   "outputs": [],
   "source": [
    "import nltk\n",
    "words=nltk.word_tokenize(sentence)"
   ]
  },
  {
   "cell_type": "code",
   "execution_count": 11,
   "id": "c3c1f537-56a5-4177-9f9d-e5b5e29ad833",
   "metadata": {},
   "outputs": [],
   "source": [
    "tag_elements = nltk.pos_tag(words)"
   ]
  },
  {
   "cell_type": "code",
   "execution_count": null,
   "id": "f3fde58f-4c7e-479f-991b-1f3198bab97f",
   "metadata": {},
   "outputs": [],
   "source": [
    "!pip install svgling"
   ]
  },
  {
   "cell_type": "code",
   "execution_count": 19,
   "id": "ebcedcab-bb4d-4786-a330-d1d5f0862f73",
   "metadata": {},
   "outputs": [
    {
     "ename": "ModuleNotFoundError",
     "evalue": "No module named 'svgling'",
     "output_type": "error",
     "traceback": [
      "\u001b[1;31m---------------------------------------------------------------------------\u001b[0m",
      "\u001b[1;31mModuleNotFoundError\u001b[0m                       Traceback (most recent call last)",
      "File \u001b[1;32m~\\AppData\\Roaming\\Python\\Python311\\site-packages\\IPython\\core\\formatters.py:344\u001b[0m, in \u001b[0;36mBaseFormatter.__call__\u001b[1;34m(self, obj)\u001b[0m\n\u001b[0;32m    342\u001b[0m     method \u001b[38;5;241m=\u001b[39m get_real_method(obj, \u001b[38;5;28mself\u001b[39m\u001b[38;5;241m.\u001b[39mprint_method)\n\u001b[0;32m    343\u001b[0m     \u001b[38;5;28;01mif\u001b[39;00m method \u001b[38;5;129;01mis\u001b[39;00m \u001b[38;5;129;01mnot\u001b[39;00m \u001b[38;5;28;01mNone\u001b[39;00m:\n\u001b[1;32m--> 344\u001b[0m         \u001b[38;5;28;01mreturn\u001b[39;00m \u001b[43mmethod\u001b[49m\u001b[43m(\u001b[49m\u001b[43m)\u001b[49m\n\u001b[0;32m    345\u001b[0m     \u001b[38;5;28;01mreturn\u001b[39;00m \u001b[38;5;28;01mNone\u001b[39;00m\n\u001b[0;32m    346\u001b[0m \u001b[38;5;28;01melse\u001b[39;00m:\n",
      "File \u001b[1;32m~\\anaconda3\\Lib\\site-packages\\nltk\\tree\\tree.py:782\u001b[0m, in \u001b[0;36mTree._repr_svg_\u001b[1;34m(self)\u001b[0m\n\u001b[0;32m    781\u001b[0m \u001b[38;5;28;01mdef\u001b[39;00m \u001b[38;5;21m_repr_svg_\u001b[39m(\u001b[38;5;28mself\u001b[39m):\n\u001b[1;32m--> 782\u001b[0m     \u001b[38;5;28;01mfrom\u001b[39;00m \u001b[38;5;21;01msvgling\u001b[39;00m \u001b[38;5;28;01mimport\u001b[39;00m draw_tree\n\u001b[0;32m    784\u001b[0m     \u001b[38;5;28;01mreturn\u001b[39;00m draw_tree(\u001b[38;5;28mself\u001b[39m)\u001b[38;5;241m.\u001b[39m_repr_svg_()\n",
      "\u001b[1;31mModuleNotFoundError\u001b[0m: No module named 'svgling'"
     ]
    },
    {
     "data": {
      "text/plain": [
       "Tree('S', [('The', 'DT'), Tree('ORGANIZATION', [('Eiffel', 'NNP'), ('Tower', 'NNP')]), (',', ','), ('a', 'DT'), ('symbol', 'NN'), ('of', 'IN'), Tree('GPE', [('Paris', 'NNP')]), (',', ','), ('stands', 'VBZ'), ('tall', 'JJ'), ('at', 'IN'), ('324', 'CD'), ('meters', 'NNS'), (',', ','), ('inspiring', 'VBG'), ('wonder', 'NN'), ('and', 'CC'), ('romance', 'NN'), (',', ','), ('a', 'DT'), ('iron', 'NN'), ('lady', 'NN'), ('of', 'IN'), ('beauty', 'NN'), ('and', 'CC'), ('strength', 'NN'), ('.', '.')])"
      ]
     },
     "execution_count": 19,
     "metadata": {},
     "output_type": "execute_result"
    }
   ],
   "source": [
    "nltk.ne_chunk(tag_elements)"
   ]
  },
  {
   "cell_type": "code",
   "execution_count": null,
   "id": "8ebb5d5b-c919-43df-909f-09f52b2005e3",
   "metadata": {},
   "outputs": [],
   "source": []
  }
 ],
 "metadata": {
  "kernelspec": {
   "display_name": "Python 3 (ipykernel)",
   "language": "python",
   "name": "python3"
  },
  "language_info": {
   "codemirror_mode": {
    "name": "ipython",
    "version": 3
   },
   "file_extension": ".py",
   "mimetype": "text/x-python",
   "name": "python",
   "nbconvert_exporter": "python",
   "pygments_lexer": "ipython3",
   "version": "3.11.7"
  }
 },
 "nbformat": 4,
 "nbformat_minor": 5
}
